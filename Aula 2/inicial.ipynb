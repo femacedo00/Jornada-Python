{
 "cells": [
  {
   "cell_type": "markdown",
   "metadata": {},
   "source": [
    "# Python Insights - Analisando Dados com Python\n",
    "\n",
    "### Case - Cancelamento de Clientes\n",
    "\n",
    "Você foi contratado por uma empresa com mais de 800 mil clientes para um projeto de Dados. Recentemente a empresa percebeu que da sua base total de clientes, a maioria são clientes inativos, ou seja, que já cancelaram o serviço.\n",
    "\n",
    "Precisando melhorar seus resultados ela quer conseguir entender os principais motivos desses cancelamentos e quais as ações mais eficientes para reduzir esse número.\n",
    "\n",
    "Base de dados e arquivos: https://drive.google.com/drive/folders/1uDesZePdkhiraJmiyeZ-w5tfc8XsNYFZ?usp=drive_link"
   ]
  },
  {
   "cell_type": "code",
   "execution_count": null,
   "metadata": {},
   "outputs": [],
   "source": [
    "# Passo 1: Importar a base de dados\n",
    "import pandas as pd\n",
    "\n",
    "# Passo 2: Visualizar a base de dados\n",
    "    # Entender as informações disponíveis\n",
    "    # Procurar pelos erros da base de dados\n",
    "\n",
    "tabela = pd.read_csv(\"cancelamentos.csv\")\n",
    "tabela = tabela.drop(columns=\"CustomerID\") # Retirar colunas inúteis da tabela (Não agregam a entender a situação do concelamento)\n",
    "display(tabela)"
   ]
  },
  {
   "cell_type": "code",
   "execution_count": null,
   "metadata": {},
   "outputs": [],
   "source": [
    "# Passo 3: Corrigir os erros da base de dados\n",
    "display(tabela.info()) # Identificando Informações vazias ou no formato errado\n",
    "tabela = tabela.dropna()\n",
    "display(tabela.info()) # Identificando Informações vazias ou no formato errado"
   ]
  },
  {
   "cell_type": "code",
   "execution_count": null,
   "metadata": {},
   "outputs": [],
   "source": [
    "# Passo 4: Análise dos cancelamentos \n",
    "display(tabela[\"cancelou\"].value_counts())\n",
    "\n",
    "# Em porcentual = normalizado\n",
    "display(tabela[\"cancelou\"].value_counts(normalize=True))"
   ]
  },
  {
   "cell_type": "code",
   "execution_count": null,
   "metadata": {},
   "outputs": [],
   "source": [
    "# Passo 5: Análise da causa dos cancelamentos (como as colunas impactam no cancelamento)\n",
    "import plotly.express as px\n",
    "\n",
    "for coluna in tabela.columns:\n",
    "    # Criando gráfico\n",
    "    grafico = px.histogram(tabela, x=coluna, color=\"cancelou\", text_auto=True)\n",
    "    # Mostrando o gráfico\n",
    "    grafico.show()"
   ]
  },
  {
   "cell_type": "code",
   "execution_count": null,
   "metadata": {},
   "outputs": [],
   "source": [
    "# Causas do cancelamento:\n",
    "\n",
    "# Todos os clientes do contrato mensal cancelaram\n",
    "    # Solução: Desconto no plano trimestral e anual para o cliente entender e aproveitaer mais sobre o serviço\n",
    "\n",
    "# Todos os clientes com mais de 20 dias de atraso cancelaram o serviço\n",
    "    # Solução: Criar sistema de cobrança que após o décimo dia de atraso, entre em contato com em um intervalo de 2 dias com o cliente para entender o motivo do atraso e tentar negociar com ele para não perdê-lo\n",
    "\n",
    "# Todos os clientes que ligaram mais de quatro vezes para o call centter cancelaram \n",
    "    # Solução: Criar alerta de um cliente que ligou mais de 2x\n",
    "    # Além disso, é necessário entender se os problemas relatados pelos clientes são parecidos e também verificar se a qualidade do atendimento está de acordo com as necessidades do cliente\n",
    "\n",
    "\n",
    "# Analisar se a resolução dos três problemas será eficaz para diminuir a porcentagem de cancelamentos do cliente. Para isso, verificaremos os dados com os seguintes pontos:\n",
    "\n",
    "# Duração do contrato não pode ser mensal\n",
    "tabela = tabela[tabela[\"duracao_contrato\"] != \"Monthly\"]\n",
    "\n",
    "# Atrasos só podem ser de até 20 dias\n",
    "tabela = tabela[tabela[\"dias_atraso\"] <= 20]\n",
    "\n",
    "# Ligações no call center não podem passar de quatro ligações\n",
    "tabela = tabela[tabela[\"ligacoes_callcenter\"] <= 4]\n",
    "\n",
    "# Em porcentual = normalizado\n",
    "display(tabela[\"cancelou\"].value_counts(normalize=True))\n",
    "\n",
    "# Pelo resultado gerado, a porcentagem de clientes que cancelaram caem de aprximadamente de 43% para 18%.\n"
   ]
  }
 ],
 "metadata": {
  "kernelspec": {
   "display_name": "Python 3",
   "language": "python",
   "name": "python3"
  },
  "language_info": {
   "codemirror_mode": {
    "name": "ipython",
    "version": 3
   },
   "file_extension": ".py",
   "mimetype": "text/x-python",
   "name": "python",
   "nbconvert_exporter": "python",
   "pygments_lexer": "ipython3",
   "version": "3.11.9"
  },
  "orig_nbformat": 4
 },
 "nbformat": 4,
 "nbformat_minor": 2
}
